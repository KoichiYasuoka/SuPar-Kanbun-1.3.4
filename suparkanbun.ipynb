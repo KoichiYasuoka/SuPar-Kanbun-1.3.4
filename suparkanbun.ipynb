{
  "nbformat":4,
  "nbformat_minor":0,
  "metadata":{
    "colab":{ "name":"SuPar-Kanbun on Google Colaboratory" },
    "kernelspec":{ "name":"python3" }
  },
  "cells":[
    {
      "cell_type":"markdown",
      "metadata":{ "colab_type":"text" },
      "source":[
        "# [SuPar-Kanbun](https://github.com/KoichiYasuoka/SuPar-Kanbun) on Google Colaboratory\n"
      ]
    },
    {
      "cell_type":"markdown",
      "metadata":{ "colab_type":"text" },
      "source":[
        "## Basic usage\n"
      ]
    },
    {
      "cell_type":"code",
      "metadata":{ "colab_type":"code" },
      "source":[
        "!pip install suparkanbun\n",
        "import suparkanbun\n",
        "nlp=suparkanbun.load(BERT=\"roberta-classical-chinese-base-char\",Danku=False)\n",
        "doc=nlp(\"不入虎穴不得虎子\")\n",
        "import deplacy\n",
        "deplacy.render(doc)\n",
        "deplacy.serve(doc,port=None)"
      ]
    },
    {
      "cell_type":"markdown",
      "metadata":{ "colab_type":"text" },
      "source":[
        "## Kundoku usage\n"
      ]
    },
    {
      "cell_type":"code",
      "metadata":{ "colab_type":"code" },
      "source":[
        "!pip install suparkanbun udkundoku\n",
        "import suparkanbun\n",
        "nlp=suparkanbun.load(BERT=\"roberta-classical-chinese-base-char\",Danku=False)\n",
        "doc=nlp(\"不入虎穴不得虎子\")\n",
        "import udkundoku\n",
        "kun=udkundoku.translate(doc)\n",
        "print(kun)"
      ]
    }
  ]
}
